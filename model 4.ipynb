{
  "nbformat": 4,
  "nbformat_minor": 0,
  "metadata": {
    "colab": {
      "provenance": []
    },
    "kernelspec": {
      "name": "python3",
      "display_name": "Python 3"
    },
    "language_info": {
      "name": "python"
    }
  },
  "cells": [
    {
      "cell_type": "code",
      "execution_count": 18,
      "metadata": {
        "colab": {
          "base_uri": "https://localhost:8080/"
        },
        "id": "v3lLZs7aIVBs",
        "outputId": "c7c8968b-7396-4b27-d083-e4f6535aa6c1"
      },
      "outputs": [
        {
          "output_type": "stream",
          "name": "stdout",
          "text": [
            "Training data shape: (404, 13)\n",
            "Training targets shape: (404,)\n",
            "Test data shape: (102, 13)\n",
            "Test targets shape: (102,)\n"
          ]
        }
      ],
      "source": [
        "import tensorflow as tf\n",
        "import pandas as pd\n",
        "import matplotlib.pyplot as plt\n",
        "\n",
        "(train_data, train_targets), (test_data, test_targets) = tf.keras.datasets.boston_housing.load_data(\n",
        "    path='boston_housing.npz', test_split=0.2, seed=113\n",
        ")\n",
        "\n",
        "# Now you can access the data\n",
        "print(\"Training data shape:\", train_data.shape)\n",
        "print(\"Training targets shape:\", train_targets.shape)\n",
        "print(\"Test data shape:\", test_data.shape)\n",
        "print(\"Test targets shape:\", test_targets.shape)"
      ]
    }
  ]
}